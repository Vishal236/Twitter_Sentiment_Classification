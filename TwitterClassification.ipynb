{
 "cells": [
  {
   "cell_type": "code",
   "execution_count": 1,
   "metadata": {},
   "outputs": [
    {
     "name": "stderr",
     "output_type": "stream",
     "text": [
      "Using TensorFlow backend.\n"
     ]
    }
   ],
   "source": [
    "#Importing useful libraries\n",
    "import tensorflow as tf\n",
    "import keras\n",
    "import numpy as np\n",
    "import pandas as pd"
   ]
  },
  {
   "cell_type": "code",
   "execution_count": 2,
   "metadata": {},
   "outputs": [],
   "source": [
    "#Loading the dataset\n",
    "train = pd.read_csv(\"Twitter Classification/Train.csv\")\n",
    "test = pd.read_csv(\"Twitter Classification/Test.csv\")"
   ]
  },
  {
   "cell_type": "code",
   "execution_count": 3,
   "metadata": {},
   "outputs": [
    {
     "data": {
      "text/html": [
       "<div>\n",
       "<style scoped>\n",
       "    .dataframe tbody tr th:only-of-type {\n",
       "        vertical-align: middle;\n",
       "    }\n",
       "\n",
       "    .dataframe tbody tr th {\n",
       "        vertical-align: top;\n",
       "    }\n",
       "\n",
       "    .dataframe thead th {\n",
       "        text-align: right;\n",
       "    }\n",
       "</style>\n",
       "<table border=\"1\" class=\"dataframe\">\n",
       "  <thead>\n",
       "    <tr style=\"text-align: right;\">\n",
       "      <th></th>\n",
       "      <th>id</th>\n",
       "      <th>label</th>\n",
       "      <th>tweet</th>\n",
       "    </tr>\n",
       "  </thead>\n",
       "  <tbody>\n",
       "    <tr>\n",
       "      <th>0</th>\n",
       "      <td>1</td>\n",
       "      <td>0</td>\n",
       "      <td>@user when a father is dysfunctional and is s...</td>\n",
       "    </tr>\n",
       "    <tr>\n",
       "      <th>1</th>\n",
       "      <td>2</td>\n",
       "      <td>0</td>\n",
       "      <td>@user @user thanks for #lyft credit i can't us...</td>\n",
       "    </tr>\n",
       "    <tr>\n",
       "      <th>2</th>\n",
       "      <td>3</td>\n",
       "      <td>0</td>\n",
       "      <td>bihday your majesty</td>\n",
       "    </tr>\n",
       "    <tr>\n",
       "      <th>3</th>\n",
       "      <td>4</td>\n",
       "      <td>0</td>\n",
       "      <td>#model   i love u take with u all the time in ...</td>\n",
       "    </tr>\n",
       "    <tr>\n",
       "      <th>4</th>\n",
       "      <td>5</td>\n",
       "      <td>0</td>\n",
       "      <td>factsguide: society now    #motivation</td>\n",
       "    </tr>\n",
       "  </tbody>\n",
       "</table>\n",
       "</div>"
      ],
      "text/plain": [
       "   id  label                                              tweet\n",
       "0   1      0   @user when a father is dysfunctional and is s...\n",
       "1   2      0  @user @user thanks for #lyft credit i can't us...\n",
       "2   3      0                                bihday your majesty\n",
       "3   4      0  #model   i love u take with u all the time in ...\n",
       "4   5      0             factsguide: society now    #motivation"
      ]
     },
     "execution_count": 3,
     "metadata": {},
     "output_type": "execute_result"
    }
   ],
   "source": [
    "train.head()"
   ]
  },
  {
   "cell_type": "code",
   "execution_count": 4,
   "metadata": {},
   "outputs": [
    {
     "data": {
      "text/html": [
       "<div>\n",
       "<style scoped>\n",
       "    .dataframe tbody tr th:only-of-type {\n",
       "        vertical-align: middle;\n",
       "    }\n",
       "\n",
       "    .dataframe tbody tr th {\n",
       "        vertical-align: top;\n",
       "    }\n",
       "\n",
       "    .dataframe thead th {\n",
       "        text-align: right;\n",
       "    }\n",
       "</style>\n",
       "<table border=\"1\" class=\"dataframe\">\n",
       "  <thead>\n",
       "    <tr style=\"text-align: right;\">\n",
       "      <th></th>\n",
       "      <th>id</th>\n",
       "      <th>tweet</th>\n",
       "    </tr>\n",
       "  </thead>\n",
       "  <tbody>\n",
       "    <tr>\n",
       "      <th>0</th>\n",
       "      <td>31963</td>\n",
       "      <td>#studiolife #aislife #requires #passion #dedic...</td>\n",
       "    </tr>\n",
       "    <tr>\n",
       "      <th>1</th>\n",
       "      <td>31964</td>\n",
       "      <td>@user #white #supremacists want everyone to s...</td>\n",
       "    </tr>\n",
       "    <tr>\n",
       "      <th>2</th>\n",
       "      <td>31965</td>\n",
       "      <td>safe ways to heal your #acne!!    #altwaystohe...</td>\n",
       "    </tr>\n",
       "    <tr>\n",
       "      <th>3</th>\n",
       "      <td>31966</td>\n",
       "      <td>is the hp and the cursed child book up for res...</td>\n",
       "    </tr>\n",
       "    <tr>\n",
       "      <th>4</th>\n",
       "      <td>31967</td>\n",
       "      <td>3rd #bihday to my amazing, hilarious #nephew...</td>\n",
       "    </tr>\n",
       "  </tbody>\n",
       "</table>\n",
       "</div>"
      ],
      "text/plain": [
       "      id                                              tweet\n",
       "0  31963  #studiolife #aislife #requires #passion #dedic...\n",
       "1  31964   @user #white #supremacists want everyone to s...\n",
       "2  31965  safe ways to heal your #acne!!    #altwaystohe...\n",
       "3  31966  is the hp and the cursed child book up for res...\n",
       "4  31967    3rd #bihday to my amazing, hilarious #nephew..."
      ]
     },
     "execution_count": 4,
     "metadata": {},
     "output_type": "execute_result"
    }
   ],
   "source": [
    "test.head()"
   ]
  },
  {
   "cell_type": "code",
   "execution_count": 5,
   "metadata": {},
   "outputs": [
    {
     "data": {
      "text/plain": [
       "0    29720\n",
       "1     2242\n",
       "Name: label, dtype: int64"
      ]
     },
     "execution_count": 5,
     "metadata": {},
     "output_type": "execute_result"
    }
   ],
   "source": [
    "train[\"label\"].value_counts()"
   ]
  },
  {
   "cell_type": "code",
   "execution_count": 6,
   "metadata": {},
   "outputs": [],
   "source": [
    "Y = pd.get_dummies(train[\"label\"]).values #one-hot encoding for labels"
   ]
  },
  {
   "cell_type": "code",
   "execution_count": 7,
   "metadata": {},
   "outputs": [],
   "source": [
    "X = train['tweet']"
   ]
  },
  {
   "cell_type": "code",
   "execution_count": 8,
   "metadata": {},
   "outputs": [
    {
     "data": {
      "text/plain": [
       "(31962,)"
      ]
     },
     "execution_count": 8,
     "metadata": {},
     "output_type": "execute_result"
    }
   ],
   "source": [
    "X.shape #There are 31962 training examples"
   ]
  },
  {
   "cell_type": "code",
   "execution_count": 9,
   "metadata": {},
   "outputs": [],
   "source": [
    "X_test = test['tweet']"
   ]
  },
  {
   "cell_type": "code",
   "execution_count": 10,
   "metadata": {},
   "outputs": [],
   "source": [
    "all = X.append(X_test, ignore_index=True) #Combining train and test data"
   ]
  },
  {
   "cell_type": "code",
   "execution_count": 11,
   "metadata": {},
   "outputs": [],
   "source": [
    "#Removing '@user' from all the tweets\n",
    "import re\n",
    "\n",
    "for i in range(X.shape[0]) :\n",
    "    r = re.findall(\"@user\", str(all[i]))\n",
    "    for j in r :\n",
    "        all[i] = re.sub(j,'',str(all[i]))"
   ]
  },
  {
   "cell_type": "code",
   "execution_count": 12,
   "metadata": {},
   "outputs": [],
   "source": [
    "#Removing punctuations, numbers and special characters\n",
    "all = all.str.replace(\"[^a-zA-Z#]\", \" \")"
   ]
  },
  {
   "cell_type": "code",
   "execution_count": 13,
   "metadata": {},
   "outputs": [],
   "source": [
    "#Removing hashtag. For eg:- '#happy' will be converted to 'happy'\n",
    "for i in range(all.shape[0]) :\n",
    "    new_string = ''\n",
    "    for j in str(all[i]).split() :\n",
    "        if j[:1] == '#':\n",
    "            new_string = new_string.strip() + ' ' + j[1:]\n",
    "        else :\n",
    "            new_string = new_string.strip() + ' ' + j\n",
    "    all[i] = new_string"
   ]
  },
  {
   "cell_type": "code",
   "execution_count": 14,
   "metadata": {},
   "outputs": [],
   "source": [
    "#Dealing with some common abbreviations\n",
    "\n",
    "for i in range(all.shape[0]) :\n",
    "    new_string = ''\n",
    "    for j in str(all[i]).split() :\n",
    "        if j == 'u':\n",
    "            new_string = new_string.strip() + ' ' + 'you'\n",
    "        else :\n",
    "            new_string = new_string.strip() + ' ' + j\n",
    "    all[i] = new_string\n",
    "        \n",
    "for i in range(all.shape[0]) :\n",
    "    new_string = ''\n",
    "    for j in str(all[i]).split() :\n",
    "        if j == 'ur':\n",
    "            new_string = new_string.strip() + ' ' + 'your'\n",
    "        else :\n",
    "            new_string = new_string.strip() + ' ' + j\n",
    "    all[i] = new_string\n",
    "    \n",
    "for i in range(all.shape[0]) :\n",
    "    new_string = ''\n",
    "    for j in str(all[i]).split() :\n",
    "        if j == 'y':\n",
    "            new_string = new_string.strip() + ' ' + 'why'\n",
    "        else :\n",
    "            new_string = new_string.strip() + ' ' + j\n",
    "    all[i] = new_string\n",
    "\n",
    "for i in range(all.shape[0]) :\n",
    "    new_string = ''\n",
    "    for j in str(all[i]).split() :\n",
    "        if j == 'r':\n",
    "            new_string = new_string.strip() + ' ' + 'are'\n",
    "        else :\n",
    "            new_string = new_string.strip() + ' ' + j\n",
    "    all[i] = new_string\n",
    "    \n",
    "for i in range(all.shape[0]) :\n",
    "    new_string = ''\n",
    "    for j in str(all[i]).split() :\n",
    "        if j == 'k':\n",
    "            new_string = new_string.strip() + ' ' + 'okay'\n",
    "        else :\n",
    "            new_string = new_string.strip() + ' ' + j\n",
    "    all[i] = new_string\n",
    "    \n",
    "for i in range(all.shape[0]) :\n",
    "    new_string = ''\n",
    "    for j in str(all[i]).split() :\n",
    "        if j == 'm':\n",
    "            new_string = new_string.strip() + ' ' + 'am'\n",
    "        else :\n",
    "            new_string = new_string.strip() + ' ' + j\n",
    "    all[i] = new_string\n",
    "    \n",
    "\n",
    "for i in range(all.shape[0]) :\n",
    "    new_string = ''\n",
    "    for j in str(all[i]).split() :\n",
    "        if j == 'b4':\n",
    "            new_string = new_string.strip() + ' ' + 'before'\n",
    "        else :\n",
    "            new_string = new_string.strip() + ' ' + j\n",
    "    all[i] = new_string\n",
    "        \n",
    "for i in range(all.shape[0]) :\n",
    "    new_string = ''\n",
    "    for j in str(all[i]).split() :\n",
    "        if j == 'ty':\n",
    "            new_string = new_string.strip() + ' ' + 'thank you'\n",
    "        else :\n",
    "            new_string = new_string.strip() + ' ' + j\n",
    "    all[i] = new_string\n",
    "    \n",
    "for i in range(all.shape[0]) :\n",
    "    new_string = ''\n",
    "    for j in str(all[i]).split() :\n",
    "        if j == 'bc':\n",
    "            new_string = new_string.strip() + ' ' + 'because'\n",
    "        else :\n",
    "            new_string = new_string.strip() + ' ' + j\n",
    "    all[i] = new_string\n",
    "\n",
    "for i in range(all.shape[0]) :\n",
    "    new_string = ''\n",
    "    for j in str(all[i]).split() :\n",
    "        if j == 'grt':\n",
    "            new_string = new_string.strip() + ' ' + 'great'\n",
    "        else :\n",
    "            new_string = new_string.strip() + ' ' + j\n",
    "    all[i] = new_string\n",
    "    \n",
    "for i in range(all.shape[0]) :\n",
    "    new_string = ''\n",
    "    for j in str(all[i]).split() :\n",
    "        if j == 'gud':\n",
    "            new_string = new_string.strip() + ' ' + 'good'\n",
    "        else :\n",
    "            new_string = new_string.strip() + ' ' + j\n",
    "    all[i] = new_string\n",
    "    \n",
    "for i in range(all.shape[0]) :\n",
    "    new_string = ''\n",
    "    for j in str(all[i]).split() :\n",
    "        if j == 'h8':\n",
    "            new_string = new_string.strip() + ' ' + 'hate'\n",
    "        else :\n",
    "            new_string = new_string.strip() + ' ' + j\n",
    "    all[i] = new_string\n",
    "    \n",
    "for i in range(all.shape[0]) :\n",
    "    new_string = ''\n",
    "    for j in str(all[i]).split() :\n",
    "        if j == 'bday':\n",
    "            new_string = new_string.strip() + ' ' + 'birthday'\n",
    "        else :\n",
    "            new_string = new_string.strip() + ' ' + j\n",
    "    all[i] = new_string\n",
    "        \n",
    "for i in range(all.shape[0]) :\n",
    "    new_string = ''\n",
    "    for j in str(all[i]).split() :\n",
    "        if j == 'wtf':\n",
    "            new_string = new_string.strip() + ' ' + 'hate'\n",
    "        else :\n",
    "            new_string = new_string.strip() + ' ' + j\n",
    "    all[i] = new_string\n",
    "    \n",
    "for i in range(all.shape[0]) :\n",
    "    new_string = ''\n",
    "    for j in str(all[i]).split() :\n",
    "        if j == 'wth':\n",
    "            new_string = new_string.strip() + ' ' + 'hate'\n",
    "        else :\n",
    "            new_string = new_string.strip() + ' ' + j\n",
    "    all[i] = new_string\n",
    "\n",
    "for i in range(all.shape[0]) :\n",
    "    new_string = ''\n",
    "    for j in str(all[i]).split() :\n",
    "        if j == 'idgaf':\n",
    "            new_string = new_string.strip() + ' ' + 'hate'\n",
    "        else :\n",
    "            new_string = new_string.strip() + ' ' + j\n",
    "    all[i] = new_string\n",
    "    \n",
    "for i in range(all.shape[0]) :\n",
    "    new_string = ''\n",
    "    for j in str(all[i]).split() :\n",
    "        if j == 'n':\n",
    "            new_string = new_string.strip() + ' ' + 'and'\n",
    "        else :\n",
    "            new_string = new_string.strip() + ' ' + j\n",
    "    all[i] = new_string\n",
    "    \n",
    "for i in range(all.shape[0]) :\n",
    "    new_string = ''\n",
    "    for j in str(all[i]).split() :\n",
    "        if j == 'luv':\n",
    "            new_string = new_string.strip() + ' ' + 'love'\n",
    "        else :\n",
    "            new_string = new_string.strip() + ' ' + j\n",
    "    all[i] = new_string\n",
    "        \n",
    "\n"
   ]
  },
  {
   "cell_type": "code",
   "execution_count": 15,
   "metadata": {},
   "outputs": [],
   "source": [
    "#Dealing with spelling mistakes and replacing them with possible words.\n",
    "\n",
    "from symspellpy.symspellpy import SymSpell\n",
    "\n",
    "dictionary_path = \"dictionary.txt\"\n",
    "sym_spell = SymSpell(2, 7)\n",
    "sym_spell.load_dictionary(dictionary_path, 0, 1)\n",
    "\n",
    "\n",
    "for i in range(all.shape[0]) :\n",
    "    result = sym_spell.lookup_compound(all[i],2)\n",
    "    all[i] = result[0].term"
   ]
  },
  {
   "cell_type": "code",
   "execution_count": 16,
   "metadata": {},
   "outputs": [
    {
     "data": {
      "text/plain": [
       "0    when a father is dysfunctional and is so selfi...\n",
       "1    thanks for left credit i can to use cause they...\n",
       "2                                  by day your majesty\n",
       "3    model i love you take with you all the time in...\n",
       "4                    fact guide society now motivation\n",
       "Name: tweet, dtype: object"
      ]
     },
     "execution_count": 16,
     "metadata": {},
     "output_type": "execute_result"
    }
   ],
   "source": [
    "#Transformed dataset\n",
    "all[0:5]"
   ]
  },
  {
   "cell_type": "code",
   "execution_count": 17,
   "metadata": {},
   "outputs": [],
   "source": [
    "#Importing more libraries for tokenizing and other operations\n",
    "from keras.preprocessing.text import Tokenizer\n",
    "from keras.preprocessing.sequence import pad_sequences"
   ]
  },
  {
   "cell_type": "code",
   "execution_count": 18,
   "metadata": {},
   "outputs": [],
   "source": [
    "t = Tokenizer()\n",
    "t.fit_on_texts(all)\n",
    "vocab_size = len(t.word_index) + 1\n",
    "encoded = t.texts_to_sequences(all)"
   ]
  },
  {
   "cell_type": "code",
   "execution_count": 19,
   "metadata": {},
   "outputs": [
    {
     "name": "stdout",
     "output_type": "stream",
     "text": [
      "[[   41     2    51    11 11798     7    11    22  3315    46  8358   114\n",
      "    236   266   114  9753   397     0     0     0     0     0     0     0\n",
      "      0]\n",
      " [  166    10   310  2089     4    34     1   424   742    44    75     1\n",
      "   1722  8359  6693     8  3020   834    53  8360     0     0     0     0\n",
      "      0]\n",
      " [   27    13    23  3021     0     0     0     0     0     0     0     0\n",
      "      0     0     0     0     0     0     0     0     0     0     0     0\n",
      "      0]\n",
      " [  141     4    15     5    87    20     5    21     3    38     8    23\n",
      "      0     0     0     0     0     0     0     0     0     0     0     0\n",
      "      0]\n",
      " [  549  1827  1468    54   269     0     0     0     0     0     0     0\n",
      "      0     0     0     0     0     0     0     0     0     0     0     0\n",
      "      0]]\n"
     ]
    }
   ],
   "source": [
    "#Since every sentence has different length,zero is padded to reach the maximum length(25)\n",
    "padded = pad_sequences(encoded, maxlen=25, padding='post')\n",
    "print(padded[:5])"
   ]
  },
  {
   "cell_type": "code",
   "execution_count": 20,
   "metadata": {},
   "outputs": [],
   "source": [
    "X = padded[:31962]\n",
    "X_test = padded[31962:]"
   ]
  },
  {
   "cell_type": "code",
   "execution_count": 21,
   "metadata": {},
   "outputs": [],
   "source": [
    "#Preparing the embedding layer by using pretrained glove embeddings.\n",
    "embeddings_index = dict()\n",
    "f = open('glove.6B.100d.txt', encoding=\"utf8\")\n",
    "for line in f:\n",
    "    values = line.split()\n",
    "    word = values[0]\n",
    "    coefs = np.asarray(values[1:], dtype='float32')\n",
    "    embeddings_index[word] = coefs\n",
    "f.close()"
   ]
  },
  {
   "cell_type": "code",
   "execution_count": 22,
   "metadata": {},
   "outputs": [],
   "source": [
    "embedding_matrix = np.zeros((vocab_size, 100))\n",
    "for word, i in t.word_index.items():\n",
    "    embedding_vector = embeddings_index.get(word)\n",
    "    if embedding_vector is not None:\n",
    "        embedding_matrix[i] = embedding_vector"
   ]
  },
  {
   "cell_type": "code",
   "execution_count": 23,
   "metadata": {},
   "outputs": [],
   "source": [
    "#Splitting the dataset into Training and Cross Validation set\n",
    "from sklearn.model_selection import train_test_split\n",
    "X_train, X_csv, Y_train, Y_csv = train_test_split(X, Y, test_size=0.10,random_state = 5,stratify = Y)"
   ]
  },
  {
   "cell_type": "code",
   "execution_count": 24,
   "metadata": {},
   "outputs": [],
   "source": [
    "from keras.layers import Embedding, Flatten, Dense, LSTM, Dropout\n",
    "from keras.models import Sequential"
   ]
  },
  {
   "cell_type": "code",
   "execution_count": 25,
   "metadata": {},
   "outputs": [],
   "source": [
    "#Defining our F1 score metric\n",
    "\n",
    "from keras import backend as K\n",
    "\n",
    "def f1(y_true, y_pred):\n",
    "    y_pred = K.round(y_pred)\n",
    "    tp = K.sum(K.cast(y_true*y_pred, 'float'), axis=0)\n",
    "    tn = K.sum(K.cast((1-y_true)*(1-y_pred), 'float'), axis=0)\n",
    "    fp = K.sum(K.cast((1-y_true)*y_pred, 'float'), axis=0)\n",
    "    fn = K.sum(K.cast(y_true*(1-y_pred), 'float'), axis=0)\n",
    "\n",
    "    p = tp / (tp + fp + K.epsilon())\n",
    "    r = tp / (tp + fn + K.epsilon())\n",
    "\n",
    "    f1 = 2*p*r / (p+r+K.epsilon())\n",
    "    f1 = tf.where(tf.is_nan(f1), tf.zeros_like(f1), f1)\n",
    "    return K.mean(f1)"
   ]
  },
  {
   "cell_type": "code",
   "execution_count": 26,
   "metadata": {},
   "outputs": [],
   "source": [
    "#Using ModelCheckpoint so that we do not have to worry about overfitting due to training for too many epochs\n",
    "from keras.callbacks import ModelCheckpoint\n",
    "filepath=\"tc.best.hdf5\"\n",
    "checkpoint = ModelCheckpoint(filepath, monitor='val_f1', save_best_only=True, mode='max')\n",
    "callbacks_list = [checkpoint]"
   ]
  },
  {
   "cell_type": "code",
   "execution_count": 27,
   "metadata": {},
   "outputs": [],
   "source": [
    "#Model\n",
    "\n",
    "model = Sequential()\n",
    "e = Embedding(vocab_size, 100, weights=[embedding_matrix], input_length = 25, trainable=True)\n",
    "model.add(e)\n",
    "model.add(LSTM(128,activation = 'tanh', return_sequences=True))\n",
    "model.add(Dropout(0.4))\n",
    "model.add(LSTM(128,activation = 'tanh', return_sequences=False))\n",
    "model.add(Dropout(0.4))\n",
    "model.add(Dense(2, activation = 'sigmoid'))"
   ]
  },
  {
   "cell_type": "code",
   "execution_count": 28,
   "metadata": {},
   "outputs": [],
   "source": [
    "model.compile(optimizer = 'adam', loss = 'binary_crossentropy', metrics = ['acc',f1])"
   ]
  },
  {
   "cell_type": "code",
   "execution_count": 29,
   "metadata": {
    "scrolled": false
   },
   "outputs": [
    {
     "name": "stdout",
     "output_type": "stream",
     "text": [
      "Train on 28765 samples, validate on 3197 samples\n",
      "Epoch 1/50\n",
      "28765/28765 [==============================] - 19s 675us/step - loss: 0.3309 - acc: 0.9160 - f1: 0.4711 - val_loss: 0.2548 - val_acc: 0.9299 - val_f1: 0.4818\n",
      "Epoch 2/50\n",
      "28765/28765 [==============================] - 15s 518us/step - loss: 0.2606 - acc: 0.9298 - f1: 0.4818 - val_loss: 0.2536 - val_acc: 0.9299 - val_f1: 0.4818\n",
      "Epoch 3/50\n",
      "28765/28765 [==============================] - 15s 514us/step - loss: 0.2577 - acc: 0.9298 - f1: 0.4818 - val_loss: 0.2531 - val_acc: 0.9299 - val_f1: 0.4818\n",
      "Epoch 4/50\n",
      "28765/28765 [==============================] - 15s 522us/step - loss: 0.2291 - acc: 0.9296 - f1: 0.5142 - val_loss: 0.1678 - val_acc: 0.9354 - val_f1: 0.4942\n",
      "Epoch 5/50\n",
      "28765/28765 [==============================] - 15s 523us/step - loss: 0.1468 - acc: 0.9466 - f1: 0.7381 - val_loss: 0.1320 - val_acc: 0.9512 - val_f1: 0.7757\n",
      "Epoch 6/50\n",
      "28765/28765 [==============================] - 15s 522us/step - loss: 0.1151 - acc: 0.9583 - f1: 0.8182 - val_loss: 0.1162 - val_acc: 0.9557 - val_f1: 0.8163\n",
      "Epoch 7/50\n",
      "28765/28765 [==============================] - 15s 517us/step - loss: 0.0897 - acc: 0.9670 - f1: 0.8629 - val_loss: 0.1164 - val_acc: 0.9561 - val_f1: 0.7925\n",
      "Epoch 8/50\n",
      "28765/28765 [==============================] - 16s 541us/step - loss: 0.0705 - acc: 0.9749 - f1: 0.8973 - val_loss: 0.1251 - val_acc: 0.9628 - val_f1: 0.8392\n",
      "Epoch 9/50\n",
      "28765/28765 [==============================] - 15s 521us/step - loss: 0.0544 - acc: 0.9811 - f1: 0.9236 - val_loss: 0.1302 - val_acc: 0.9609 - val_f1: 0.8474\n",
      "Epoch 10/50\n",
      "28765/28765 [==============================] - 15s 521us/step - loss: 0.0429 - acc: 0.9859 - f1: 0.9436 - val_loss: 0.1391 - val_acc: 0.9650 - val_f1: 0.8590\n",
      "Epoch 11/50\n",
      "28765/28765 [==============================] - 15s 516us/step - loss: 0.0332 - acc: 0.9894 - f1: 0.9576 - val_loss: 0.1383 - val_acc: 0.9576 - val_f1: 0.8005\n",
      "Epoch 12/50\n",
      "28765/28765 [==============================] - 15s 520us/step - loss: 0.0316 - acc: 0.9906 - f1: 0.9619 - val_loss: 0.1510 - val_acc: 0.9629 - val_f1: 0.8523\n",
      "Epoch 13/50\n",
      "28765/28765 [==============================] - 15s 518us/step - loss: 0.0201 - acc: 0.9942 - f1: 0.9778 - val_loss: 0.1648 - val_acc: 0.9601 - val_f1: 0.8459\n",
      "Epoch 14/50\n",
      "28765/28765 [==============================] - 15s 522us/step - loss: 0.0157 - acc: 0.9961 - f1: 0.9847 - val_loss: 0.1849 - val_acc: 0.9650 - val_f1: 0.8494\n",
      "Epoch 15/50\n",
      "28765/28765 [==============================] - 15s 517us/step - loss: 0.0130 - acc: 0.9962 - f1: 0.9852 - val_loss: 0.1791 - val_acc: 0.9637 - val_f1: 0.8500\n",
      "Epoch 16/50\n",
      "28765/28765 [==============================] - 15s 520us/step - loss: 0.0129 - acc: 0.9963 - f1: 0.9857 - val_loss: 0.1824 - val_acc: 0.9607 - val_f1: 0.8482\n",
      "Epoch 17/50\n",
      "28765/28765 [==============================] - 15s 517us/step - loss: 0.0116 - acc: 0.9968 - f1: 0.9875 - val_loss: 0.1712 - val_acc: 0.9643 - val_f1: 0.8513\n",
      "Epoch 18/50\n",
      "28765/28765 [==============================] - 15s 517us/step - loss: 0.0071 - acc: 0.9983 - f1: 0.9936 - val_loss: 0.2182 - val_acc: 0.9596 - val_f1: 0.8403\n",
      "Epoch 19/50\n",
      "28765/28765 [==============================] - 15s 519us/step - loss: 0.0057 - acc: 0.9988 - f1: 0.9954 - val_loss: 0.2180 - val_acc: 0.9611 - val_f1: 0.8452\n",
      "Epoch 20/50\n",
      "28765/28765 [==============================] - 15s 518us/step - loss: 0.0045 - acc: 0.9991 - f1: 0.9966 - val_loss: 0.2246 - val_acc: 0.9612 - val_f1: 0.8433\n",
      "Epoch 21/50\n",
      "28765/28765 [==============================] - 15s 516us/step - loss: 0.0041 - acc: 0.9992 - f1: 0.9970 - val_loss: 0.2404 - val_acc: 0.9653 - val_f1: 0.8483\n",
      "Epoch 22/50\n",
      "28765/28765 [==============================] - 15s 517us/step - loss: 0.0070 - acc: 0.9982 - f1: 0.9930 - val_loss: 0.2316 - val_acc: 0.9642 - val_f1: 0.8547\n",
      "Epoch 23/50\n",
      "28765/28765 [==============================] - 15s 516us/step - loss: 0.0079 - acc: 0.9979 - f1: 0.9921 - val_loss: 0.2283 - val_acc: 0.9629 - val_f1: 0.8526\n",
      "Epoch 24/50\n",
      "28765/28765 [==============================] - 15s 519us/step - loss: 0.0047 - acc: 0.9990 - f1: 0.9964 - val_loss: 0.2522 - val_acc: 0.9573 - val_f1: 0.8364\n",
      "Epoch 25/50\n",
      "28765/28765 [==============================] - 15s 519us/step - loss: 0.0058 - acc: 0.9985 - f1: 0.9942 - val_loss: 0.2509 - val_acc: 0.9614 - val_f1: 0.8463\n",
      "Epoch 26/50\n",
      "28765/28765 [==============================] - 15s 515us/step - loss: 0.0032 - acc: 0.9995 - f1: 0.9980 - val_loss: 0.2633 - val_acc: 0.9603 - val_f1: 0.8426\n",
      "Epoch 27/50\n",
      "28765/28765 [==============================] - 15s 516us/step - loss: 0.0037 - acc: 0.9991 - f1: 0.9961 - val_loss: 0.2829 - val_acc: 0.9551 - val_f1: 0.8314\n",
      "Epoch 28/50\n",
      "28765/28765 [==============================] - 15s 519us/step - loss: 0.0029 - acc: 0.9995 - f1: 0.9983 - val_loss: 0.2558 - val_acc: 0.9634 - val_f1: 0.8509\n",
      "Epoch 29/50\n",
      "28765/28765 [==============================] - 15s 518us/step - loss: 0.0033 - acc: 0.9994 - f1: 0.9977 - val_loss: 0.2609 - val_acc: 0.9639 - val_f1: 0.8393\n",
      "Epoch 30/50\n",
      "28765/28765 [==============================] - 15s 518us/step - loss: 0.0057 - acc: 0.9985 - f1: 0.9939 - val_loss: 0.2545 - val_acc: 0.9628 - val_f1: 0.8471\n",
      "Epoch 31/50\n",
      "28765/28765 [==============================] - 15s 516us/step - loss: 0.0037 - acc: 0.9991 - f1: 0.9968 - val_loss: 0.2496 - val_acc: 0.9625 - val_f1: 0.8484\n",
      "Epoch 32/50\n",
      "28765/28765 [==============================] - 15s 519us/step - loss: 0.0022 - acc: 0.9995 - f1: 0.9983 - val_loss: 0.2806 - val_acc: 0.9564 - val_f1: 0.8377\n",
      "Epoch 33/50\n",
      "28765/28765 [==============================] - 15s 517us/step - loss: 0.0021 - acc: 0.9996 - f1: 0.9986 - val_loss: 0.2742 - val_acc: 0.9622 - val_f1: 0.8507\n",
      "Epoch 34/50\n",
      "28765/28765 [==============================] - 15s 518us/step - loss: 0.0014 - acc: 0.9997 - f1: 0.9989 - val_loss: 0.2831 - val_acc: 0.9581 - val_f1: 0.8401\n",
      "Epoch 35/50\n",
      "28765/28765 [==============================] - 15s 517us/step - loss: 0.0015 - acc: 0.9997 - f1: 0.9988 - val_loss: 0.3086 - val_acc: 0.9556 - val_f1: 0.8367\n",
      "Epoch 36/50\n",
      "28765/28765 [==============================] - 15s 516us/step - loss: 0.0017 - acc: 0.9996 - f1: 0.9986 - val_loss: 0.2900 - val_acc: 0.9565 - val_f1: 0.8383\n",
      "Epoch 37/50\n",
      "28765/28765 [==============================] - 15s 517us/step - loss: 0.0035 - acc: 0.9991 - f1: 0.9963 - val_loss: 0.2637 - val_acc: 0.9634 - val_f1: 0.8513\n",
      "Epoch 38/50\n",
      "28765/28765 [==============================] - 15s 515us/step - loss: 0.0031 - acc: 0.9991 - f1: 0.9965 - val_loss: 0.2673 - val_acc: 0.9623 - val_f1: 0.8497\n",
      "Epoch 39/50\n",
      "28765/28765 [==============================] - 15s 516us/step - loss: 0.0018 - acc: 0.9996 - f1: 0.9985 - val_loss: 0.2723 - val_acc: 0.9640 - val_f1: 0.8487\n",
      "Epoch 40/50\n",
      "28765/28765 [==============================] - 15s 520us/step - loss: 0.0017 - acc: 0.9997 - f1: 0.9986 - val_loss: 0.2951 - val_acc: 0.9607 - val_f1: 0.8475\n",
      "Epoch 41/50\n",
      "28765/28765 [==============================] - 15s 518us/step - loss: 0.0011 - acc: 0.9998 - f1: 0.9992 - val_loss: 0.3020 - val_acc: 0.9587 - val_f1: 0.8384\n",
      "Epoch 42/50\n",
      "28765/28765 [==============================] - 15s 516us/step - loss: 8.4329e-04 - acc: 0.9998 - f1: 0.9993 - val_loss: 0.2924 - val_acc: 0.9592 - val_f1: 0.8402\n",
      "Epoch 43/50\n",
      "28765/28765 [==============================] - 15s 518us/step - loss: 8.9567e-04 - acc: 0.9999 - f1: 0.9995 - val_loss: 0.3020 - val_acc: 0.9609 - val_f1: 0.8446\n",
      "Epoch 44/50\n",
      "28765/28765 [==============================] - 15s 519us/step - loss: 6.7181e-04 - acc: 0.9998 - f1: 0.9993 - val_loss: 0.3114 - val_acc: 0.9587 - val_f1: 0.8391\n",
      "Epoch 45/50\n",
      "28765/28765 [==============================] - 15s 515us/step - loss: 6.5008e-04 - acc: 0.9999 - f1: 0.9995 - val_loss: 0.3203 - val_acc: 0.9603 - val_f1: 0.8428\n",
      "Epoch 46/50\n",
      "28765/28765 [==============================] - 15s 521us/step - loss: 7.5187e-04 - acc: 0.9998 - f1: 0.9994 - val_loss: 0.3233 - val_acc: 0.9615 - val_f1: 0.8465\n",
      "Epoch 47/50\n",
      "28765/28765 [==============================] - 15s 519us/step - loss: 9.4148e-04 - acc: 0.9997 - f1: 0.9989 - val_loss: 0.3010 - val_acc: 0.9665 - val_f1: 0.8576\n",
      "Epoch 48/50\n",
      "28765/28765 [==============================] - 15s 518us/step - loss: 0.0061 - acc: 0.9983 - f1: 0.9932 - val_loss: 0.2606 - val_acc: 0.9618 - val_f1: 0.8427\n"
     ]
    },
    {
     "name": "stdout",
     "output_type": "stream",
     "text": [
      "Epoch 49/50\n",
      "28765/28765 [==============================] - 15s 517us/step - loss: 0.0034 - acc: 0.9992 - f1: 0.9969 - val_loss: 0.2515 - val_acc: 0.9612 - val_f1: 0.8493\n",
      "Epoch 50/50\n",
      "28765/28765 [==============================] - 15s 519us/step - loss: 0.0014 - acc: 0.9997 - f1: 0.9988 - val_loss: 0.2807 - val_acc: 0.9596 - val_f1: 0.8424\n"
     ]
    },
    {
     "data": {
      "text/plain": [
       "<keras.callbacks.History at 0x1966078aa58>"
      ]
     },
     "execution_count": 29,
     "metadata": {},
     "output_type": "execute_result"
    }
   ],
   "source": [
    "model.fit(X_train, Y_train, epochs = 50, batch_size = 1024,callbacks = callbacks_list,validation_data=(X_csv,Y_csv))"
   ]
  },
  {
   "cell_type": "code",
   "execution_count": 30,
   "metadata": {
    "scrolled": true
   },
   "outputs": [
    {
     "name": "stdout",
     "output_type": "stream",
     "text": [
      "_________________________________________________________________\n",
      "Layer (type)                 Output Shape              Param #   \n",
      "=================================================================\n",
      "embedding_1 (Embedding)      (None, 25, 100)           2528400   \n",
      "_________________________________________________________________\n",
      "lstm_1 (LSTM)                (None, 25, 128)           117248    \n",
      "_________________________________________________________________\n",
      "dropout_1 (Dropout)          (None, 25, 128)           0         \n",
      "_________________________________________________________________\n",
      "lstm_2 (LSTM)                (None, 128)               131584    \n",
      "_________________________________________________________________\n",
      "dropout_2 (Dropout)          (None, 128)               0         \n",
      "_________________________________________________________________\n",
      "dense_1 (Dense)              (None, 2)                 258       \n",
      "=================================================================\n",
      "Total params: 2,777,490\n",
      "Trainable params: 2,777,490\n",
      "Non-trainable params: 0\n",
      "_________________________________________________________________\n"
     ]
    }
   ],
   "source": [
    "model.summary()"
   ]
  },
  {
   "cell_type": "code",
   "execution_count": 31,
   "metadata": {},
   "outputs": [],
   "source": [
    "#Loading the weights which performed best on validation data considering f1 score.\n",
    "model.load_weights(\"tc.best.hdf5\")"
   ]
  },
  {
   "cell_type": "code",
   "execution_count": 32,
   "metadata": {},
   "outputs": [],
   "source": [
    "Pred = model.predict(X_test)"
   ]
  },
  {
   "cell_type": "code",
   "execution_count": 33,
   "metadata": {},
   "outputs": [
    {
     "name": "stdout",
     "output_type": "stream",
     "text": [
      "[[0]\n",
      " [1]\n",
      " [0]\n",
      " ...\n",
      " [0]\n",
      " [0]\n",
      " [0]]\n"
     ]
    }
   ],
   "source": [
    "Pred = np.argmax(Pred,axis = 1)\n",
    "print(Pred.reshape((17197,1)))"
   ]
  },
  {
   "cell_type": "code",
   "execution_count": 34,
   "metadata": {},
   "outputs": [],
   "source": [
    "sub = pd.DataFrame({'id':test['id'],'label':Pred})\n",
    "sub.to_csv('TC.csv',index=False)"
   ]
  },
  {
   "cell_type": "code",
   "execution_count": 35,
   "metadata": {},
   "outputs": [
    {
     "name": "stdout",
     "output_type": "stream",
     "text": [
      "28765/28765 [==============================] - 34s 1ms/step\n",
      "3197/3197 [==============================] - 4s 1ms/step\n"
     ]
    }
   ],
   "source": [
    "at = model.evaluate(X_train,Y_train)[1]\n",
    "acsv = model.evaluate(X_csv,Y_csv)[1]"
   ]
  },
  {
   "cell_type": "code",
   "execution_count": 36,
   "metadata": {},
   "outputs": [
    {
     "name": "stdout",
     "output_type": "stream",
     "text": [
      "Training set accuracy:-  98.98140100630474\n",
      "Cross validation set accuracy:-  96.49671567094151\n"
     ]
    }
   ],
   "source": [
    "print(\"Training set accuracy:- \",at*100)\n",
    "print(\"Cross validation set accuracy:- \",acsv*100)"
   ]
  },
  {
   "cell_type": "markdown",
   "metadata": {},
   "source": [
    "Test set f1 score :- 0.70788"
   ]
  },
  {
   "cell_type": "code",
   "execution_count": null,
   "metadata": {},
   "outputs": [],
   "source": []
  }
 ],
 "metadata": {
  "kernelspec": {
   "display_name": "Python 3",
   "language": "python",
   "name": "python3"
  },
  "language_info": {
   "codemirror_mode": {
    "name": "ipython",
    "version": 3
   },
   "file_extension": ".py",
   "mimetype": "text/x-python",
   "name": "python",
   "nbconvert_exporter": "python",
   "pygments_lexer": "ipython3",
   "version": "3.6.6"
  }
 },
 "nbformat": 4,
 "nbformat_minor": 2
}
